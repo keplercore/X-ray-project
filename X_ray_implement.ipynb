{
  "nbformat": 4,
  "nbformat_minor": 0,
  "metadata": {
    "colab": {
      "name": "X-ray-implement.ipynb",
      "provenance": [],
      "authorship_tag": "ABX9TyMt71/eEUUd4ICHQYuiXTAG",
      "include_colab_link": true
    },
    "kernelspec": {
      "name": "python3",
      "display_name": "Python 3"
    },
    "language_info": {
      "name": "python"
    }
  },
  "cells": [
    {
      "cell_type": "markdown",
      "metadata": {
        "id": "view-in-github",
        "colab_type": "text"
      },
      "source": [
        "<a href=\"https://colab.research.google.com/github/keplercore/X-ray-project/blob/main/X_ray_implement.ipynb\" target=\"_parent\"><img src=\"https://colab.research.google.com/assets/colab-badge.svg\" alt=\"Open In Colab\"/></a>"
      ]
    },
    {
      "cell_type": "code",
      "source": [
        "from google.colab import drive\n",
        "drive.mount('/content/drive')"
      ],
      "metadata": {
        "colab": {
          "base_uri": "https://localhost:8080/"
        },
        "id": "zcE8j-EGoIsj",
        "outputId": "19bb7aa7-2b0f-4eef-cbf5-d95e7061d7be"
      },
      "execution_count": 23,
      "outputs": [
        {
          "output_type": "stream",
          "name": "stdout",
          "text": [
            "Drive already mounted at /content/drive; to attempt to forcibly remount, call drive.mount(\"/content/drive\", force_remount=True).\n"
          ]
        }
      ]
    },
    {
      "cell_type": "code",
      "source": [
        "import cv2\n",
        "import numpy as np"
      ],
      "metadata": {
        "id": "agKCT31fsqE5"
      },
      "execution_count": 45,
      "outputs": []
    },
    {
      "cell_type": "code",
      "execution_count": 30,
      "metadata": {
        "id": "nlqWTIRbgC6V"
      },
      "outputs": [],
      "source": [
        "import tensorflow as tf\n",
        "from tensorflow import keras\n",
        "reconstructed_model = keras.models.load_model(\"/content/drive/MyDrive/ColabNotebooks\")"
      ]
    },
    {
      "cell_type": "code",
      "source": [
        "img = cv2.imread(\"person1_virus_6.jpeg\")\n",
        "img = cv2.resize(img, (150,150))\n",
        "img = img/255\n",
        "img = cv2.resize(img, (150,150))\n",
        "img = np.expand_dims(img, axis=0)\n",
        "img.shape"
      ],
      "metadata": {
        "colab": {
          "base_uri": "https://localhost:8080/"
        },
        "id": "FGy6MjbOlPNF",
        "outputId": "b17725ce-9a36-4aa9-a828-8c2771b43c1a"
      },
      "execution_count": 46,
      "outputs": [
        {
          "output_type": "execute_result",
          "data": {
            "text/plain": [
              "(1, 150, 150, 3)"
            ]
          },
          "metadata": {},
          "execution_count": 46
        }
      ]
    },
    {
      "cell_type": "code",
      "source": [
        "reconstructed_model.predict(img)"
      ],
      "metadata": {
        "colab": {
          "base_uri": "https://localhost:8080/"
        },
        "outputId": "d63d1f3c-9cec-4e10-d248-f52de7005da7",
        "id": "DHwyLKc0wKCC"
      },
      "execution_count": 47,
      "outputs": [
        {
          "output_type": "execute_result",
          "data": {
            "text/plain": [
              "array([[4.5237705e-04, 9.9954754e-01]], dtype=float32)"
            ]
          },
          "metadata": {},
          "execution_count": 47
        }
      ]
    },
    {
      "cell_type": "code",
      "source": [
        ""
      ],
      "metadata": {
        "id": "QwDif5CSzPwv"
      },
      "execution_count": null,
      "outputs": []
    }
  ]
}