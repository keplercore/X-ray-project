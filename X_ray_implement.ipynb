{
  "nbformat": 4,
  "nbformat_minor": 0,
  "metadata": {
    "colab": {
      "name": "X-ray-implement.ipynb",
      "provenance": [],
      "authorship_tag": "ABX9TyPGaqm8FlY8cOXA6mOe9m/O",
      "include_colab_link": true
    },
    "kernelspec": {
      "name": "python3",
      "display_name": "Python 3"
    },
    "language_info": {
      "name": "python"
    }
  },
  "cells": [
    {
      "cell_type": "markdown",
      "metadata": {
        "id": "view-in-github",
        "colab_type": "text"
      },
      "source": [
        "<a href=\"https://colab.research.google.com/github/keplercore/X-ray-project/blob/main/X_ray_implement.ipynb\" target=\"_parent\"><img src=\"https://colab.research.google.com/assets/colab-badge.svg\" alt=\"Open In Colab\"/></a>"
      ]
    },
    {
      "cell_type": "code",
      "source": [
        "from google.colab import drive\n",
        "drive.mount('/content/drive')"
      ],
      "metadata": {
        "colab": {
          "base_uri": "https://localhost:8080/"
        },
        "id": "zcE8j-EGoIsj",
        "outputId": "bedc6db5-f8b6-45d1-e115-7fea621add3a"
      },
      "execution_count": 2,
      "outputs": [
        {
          "output_type": "stream",
          "name": "stdout",
          "text": [
            "Mounted at /content/drive\n"
          ]
        }
      ]
    },
    {
      "cell_type": "code",
      "source": [
        "import cv2\n",
        "import numpy as np"
      ],
      "metadata": {
        "id": "agKCT31fsqE5"
      },
      "execution_count": 3,
      "outputs": []
    },
    {
      "cell_type": "code",
      "execution_count": 4,
      "metadata": {
        "id": "nlqWTIRbgC6V"
      },
      "outputs": [],
      "source": [
        "import tensorflow as tf\n",
        "from tensorflow import keras\n",
        "reconstructed_model = keras.models.load_model(\"/content/drive/MyDrive/ColabNotebooks\")"
      ]
    },
    {
      "cell_type": "code",
      "source": [
        "img = cv2.imread(\"/content/person1685_virus_2903.jpeg\") #insert name/path to an image you want a prediction on\n",
        "img = cv2.resize(img, (150,150))\n",
        "img = img/255\n",
        "img = cv2.resize(img, (150,150))\n",
        "img = np.expand_dims(img, axis=0)\n",
        "img.shape"
      ],
      "metadata": {
        "colab": {
          "base_uri": "https://localhost:8080/"
        },
        "id": "FGy6MjbOlPNF",
        "outputId": "1349802d-a45b-4f5b-8b34-58c141f7c891"
      },
      "execution_count": 5,
      "outputs": [
        {
          "output_type": "execute_result",
          "data": {
            "text/plain": [
              "(1, 150, 150, 3)"
            ]
          },
          "metadata": {},
          "execution_count": 5
        }
      ]
    },
    {
      "cell_type": "code",
      "source": [
        "results = np.array(reconstructed_model.predict(img))\n",
        "print(f\"The probability of normal X-ray is {(results[0,0] * 100)}%.\\nThe probability of pneumonia image is {(results[0,1] * 100)} %.\")"
      ],
      "metadata": {
        "colab": {
          "base_uri": "https://localhost:8080/"
        },
        "outputId": "52ee34f6-b93d-4cc5-a2ea-b66dae71288c",
        "id": "DHwyLKc0wKCC"
      },
      "execution_count": 25,
      "outputs": [
        {
          "output_type": "stream",
          "name": "stdout",
          "text": [
            "The probability of normal X-ray is 0.0695213908329606%.\n",
            "The probability of pneumonia image is 99.93047714233398 %.\n"
          ]
        }
      ]
    },
    {
      "cell_type": "code",
      "source": [
        ""
      ],
      "metadata": {
        "id": "2B9jmEOPWGN3"
      },
      "execution_count": null,
      "outputs": []
    }
  ]
}